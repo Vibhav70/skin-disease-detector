{
  "cells": [
    {
      "cell_type": "markdown",
      "metadata": {
        "id": "view-in-github",
        "colab_type": "text"
      },
      "source": [
        "<a href=\"https://colab.research.google.com/github/Vibhav70/skin-disease-detector/blob/main/training.ipynb\" target=\"_parent\"><img src=\"https://colab.research.google.com/assets/colab-badge.svg\" alt=\"Open In Colab\"/></a>"
      ]
    },
    {
      "cell_type": "code",
      "execution_count": null,
      "metadata": {
        "id": "4lSBy7YsHTb_"
      },
      "outputs": [],
      "source": [
        "aimport tensorflow as tf\n",
        "from tensorflow.keras import layers\n",
        "from tensorflow.keras.layers.experimental import preprocessing\n",
        "\n",
        "import numpy as np\n",
        "import pandas as pd\n",
        "import seaborn as sns\n",
        "import matplotlib.pyplot as plt\n",
        "import cv2\n",
        "import random\n",
        "\n",
        "from tensorflow.keras.layers import Input, Dense, Flatten, GlobalAveragePooling2D, Dropout, BatchNormalization\n",
        "from tensorflow.keras.models import Sequential\n",
        "from tensorflow.keras import layers, regularizers\n",
        "from tensorflow.keras.metrics import Precision, Recall\n"
      ]
    },
    {
      "cell_type": "code",
      "execution_count": null,
      "metadata": {
        "colab": {
          "base_uri": "https://localhost:8080/"
        },
        "id": "pJuBZ8HJHZ5k",
        "outputId": "e9150917-4d1d-4f4e-c858-bc395917721f"
      },
      "outputs": [
        {
          "output_type": "stream",
          "name": "stdout",
          "text": [
            "Mounted at /content/drive\n"
          ]
        }
      ],
      "source": [
        "from google.colab import drive\n",
        "drive.mount('/content/drive')"
      ]
    },
    {
      "cell_type": "code",
      "source": [
        "mean = np.array([0.485, 0.456, 0.406])\n",
        "std = np.array([0.229, 0.224, 0.225])"
      ],
      "metadata": {
        "id": "4lIanaTf45l8"
      },
      "execution_count": null,
      "outputs": []
    },
    {
      "cell_type": "code",
      "execution_count": null,
      "metadata": {
        "colab": {
          "base_uri": "https://localhost:8080/"
        },
        "id": "zBrS5tF2HTYm",
        "outputId": "ce7deb24-847b-476d-d257-3681c6b94d71"
      },
      "outputs": [
        {
          "output_type": "stream",
          "name": "stdout",
          "text": [
            "Found 10125 files belonging to 10 classes.\n",
            "Found 1449 files belonging to 10 classes.\n",
            "Found 2890 files belonging to 10 classes.\n",
            "Downloading data from https://storage.googleapis.com/tensorflow/keras-applications/efficientnet_v2/efficientnetv2-s_notop.h5\n",
            "82420632/82420632 [==============================] - 5s 0us/step\n"
          ]
        }
      ],
      "source": [
        "from tensorflow.keras.preprocessing import image_dataset_from_directory\n",
        "\n",
        "train_dir = \"/content/drive/MyDrive/dataset_final/train\"\n",
        "test_dir =  \"/content/drive/MyDrive/dataset_final/test\"\n",
        "val_dir = \"/content/drive/MyDrive/dataset_final/val\"\n",
        "\n",
        "# Create a normalization layer\n",
        "normalization_layer = preprocessing.Rescaling(1./255, input_shape=(224, 224, 3))  # Assuming pixel values are in [0, 255]\n",
        "\n",
        "train_data = image_dataset_from_directory(train_dir, label_mode=\"categorical\",\n",
        "                                          image_size=(224, 224), batch_size=32,\n",
        "                                          shuffle=True, seed=42)\n",
        "\n",
        "# Apply normalization to the train_data\n",
        "normalized_train_data = train_data.map(lambda x, y: (normalization_layer(x), y))\n",
        "\n",
        "test_data = image_dataset_from_directory(test_dir, label_mode=\"categorical\",\n",
        "                                         image_size=(224, 224), batch_size=32,\n",
        "                                         shuffle=False, seed=42)\n",
        "\n",
        "# Apply normalization to the test_data\n",
        "normalized_test_data = test_data.map(lambda x, y: (normalization_layer(x), y))\n",
        "\n",
        "val_data = image_dataset_from_directory(val_dir, label_mode=\"categorical\",\n",
        "                                        image_size=(224, 224), batch_size=32,\n",
        "                                        shuffle=False, seed=42)\n",
        "# Apply normalization to the val_data\n",
        "normalized_val_data = val_data.map(lambda x, y: (normalization_layer(x), y))\n",
        "\n",
        "addModel = tf.keras.applications.EfficientNetV2S(input_shape=(224, 224, 3),\n",
        "                                                  include_top=False,\n",
        "                                                  weights='imagenet')\n"
      ]
    },
    {
      "cell_type": "code",
      "execution_count": null,
      "metadata": {
        "id": "D57lct0SHUhB"
      },
      "outputs": [],
      "source": [
        "\n",
        "model = Sequential()\n",
        "model.add(addModel)\n",
        "model.add(GlobalAveragePooling2D())\n",
        "\n",
        "model.add(Flatten())\n",
        "model.add(Dense(256, activation=\"relu\"))\n",
        "\n",
        "model.add(Dense(128, activation=\"relu\"))\n",
        "\n",
        "\n",
        "model.add(Dense(10, activation=\"softmax\" , name=\"classification\"))"
      ]
    },
    {
      "cell_type": "code",
      "execution_count": null,
      "metadata": {
        "colab": {
          "base_uri": "https://localhost:8080/"
        },
        "id": "hAJfHzn4HUdf",
        "outputId": "bd76d33c-0270-40cc-a2a0-614cc36f5393"
      },
      "outputs": [
        {
          "output_type": "stream",
          "name": "stdout",
          "text": [
            "Model: \"sequential\"\n",
            "_________________________________________________________________\n",
            " Layer (type)                Output Shape              Param #   \n",
            "=================================================================\n",
            " efficientnetv2-s (Function  (None, 7, 7, 1280)        20331360  \n",
            " al)                                                             \n",
            "                                                                 \n",
            " global_average_pooling2d (  (None, 1280)              0         \n",
            " GlobalAveragePooling2D)                                         \n",
            "                                                                 \n",
            " flatten (Flatten)           (None, 1280)              0         \n",
            "                                                                 \n",
            " dense (Dense)               (None, 256)               327936    \n",
            "                                                                 \n",
            " dense_1 (Dense)             (None, 128)               32896     \n",
            "                                                                 \n",
            " classification (Dense)      (None, 10)                1290      \n",
            "                                                                 \n",
            "=================================================================\n",
            "Total params: 20693482 (78.94 MB)\n",
            "Trainable params: 20539610 (78.35 MB)\n",
            "Non-trainable params: 153872 (601.06 KB)\n",
            "_________________________________________________________________\n"
          ]
        }
      ],
      "source": [
        "model.compile(optimizer=tf.keras.optimizers.Adam(learning_rate=0.001),\n",
        "            loss='categorical_crossentropy',\n",
        "            metrics=['accuracy'])\n",
        "\n",
        "model.summary()"
      ]
    },
    {
      "cell_type": "code",
      "execution_count": null,
      "metadata": {
        "colab": {
          "base_uri": "https://localhost:8080/"
        },
        "id": "oYMBu3VzHUae",
        "outputId": "240a62b0-dc55-4b7e-c381-46317f3763c5"
      },
      "outputs": [
        {
          "output_type": "stream",
          "name": "stdout",
          "text": [
            "Epoch 1/12\n",
            "317/317 [==============================] - 3400s 10s/step - loss: 1.6918 - accuracy: 0.4118 - val_loss: 1.5076 - val_accuracy: 0.4799\n",
            "Epoch 2/12\n",
            "317/317 [==============================] - 186s 583ms/step - loss: 1.4004 - accuracy: 0.5211 - val_loss: 1.3880 - val_accuracy: 0.5256\n",
            "Epoch 3/12\n",
            "317/317 [==============================] - 176s 554ms/step - loss: 1.2161 - accuracy: 0.5864 - val_loss: 1.3257 - val_accuracy: 0.5574\n",
            "Epoch 4/12\n",
            "317/317 [==============================] - 177s 556ms/step - loss: 1.0658 - accuracy: 0.6328 - val_loss: 1.3280 - val_accuracy: 0.5844\n",
            "Epoch 5/12\n",
            "317/317 [==============================] - 175s 549ms/step - loss: 0.9194 - accuracy: 0.6921 - val_loss: 1.3856 - val_accuracy: 0.5820\n",
            "Epoch 6/12\n",
            "317/317 [==============================] - 176s 552ms/step - loss: 0.8031 - accuracy: 0.7273 - val_loss: 1.3280 - val_accuracy: 0.6000\n",
            "Epoch 7/12\n",
            "317/317 [==============================] - 176s 553ms/step - loss: 0.6633 - accuracy: 0.7742 - val_loss: 1.4859 - val_accuracy: 0.6028\n",
            "Epoch 8/12\n",
            "317/317 [==============================] - 176s 554ms/step - loss: 0.5577 - accuracy: 0.8143 - val_loss: 1.5686 - val_accuracy: 0.5796\n",
            "Epoch 9/12\n",
            "317/317 [==============================] - 176s 552ms/step - loss: 0.4775 - accuracy: 0.8370 - val_loss: 1.5380 - val_accuracy: 0.6152\n",
            "Epoch 10/12\n",
            "317/317 [==============================] - 184s 578ms/step - loss: 0.3926 - accuracy: 0.8690 - val_loss: 1.7383 - val_accuracy: 0.5841\n",
            "Epoch 11/12\n",
            "317/317 [==============================] - 176s 554ms/step - loss: 0.3337 - accuracy: 0.8889 - val_loss: 1.7021 - val_accuracy: 0.6062\n",
            "Epoch 12/12\n",
            "317/317 [==============================] - 176s 552ms/step - loss: 0.2898 - accuracy: 0.9017 - val_loss: 1.5884 - val_accuracy: 0.6152\n"
          ]
        }
      ],
      "source": [
        "history_1 = model.fit(train_data , validation_data = val_data , epochs = 12)"
      ]
    },
    {
      "cell_type": "code",
      "execution_count": null,
      "metadata": {
        "id": "7mHyqqtVYJSJ",
        "colab": {
          "base_uri": "https://localhost:8080/"
        },
        "outputId": "259a3c5d-2aed-49ea-f672-bcfee4266030"
      },
      "outputs": [
        {
          "output_type": "stream",
          "name": "stderr",
          "text": [
            "WARNING:absl:`efficientnetv2-s_input` is not a valid tf.function parameter name. Sanitizing to `efficientnetv2_s_input`.\n",
            "WARNING:absl:`efficientnetv2-s_input` is not a valid tf.function parameter name. Sanitizing to `efficientnetv2_s_input`.\n",
            "WARNING:absl:`efficientnetv2-s_input` is not a valid tf.function parameter name. Sanitizing to `efficientnetv2_s_input`.\n"
          ]
        },
        {
          "output_type": "stream",
          "name": "stdout",
          "text": [
            "Model saved successfully at: /content/drive/MyDrive/saved_models/skin_disease_model\n"
          ]
        }
      ],
      "source": [
        "model_save_path = \"/content/drive/MyDrive/saved_models/skin_disease_model\"\n",
        "\n",
        "model.save(model_save_path)\n",
        "\n",
        "print(\"Model saved successfully at:\", model_save_path)\n"
      ]
    },
    {
      "cell_type": "code",
      "execution_count": null,
      "metadata": {
        "colab": {
          "base_uri": "https://localhost:8080/"
        },
        "id": "vN02wTB8l_5b",
        "outputId": "ddf6018d-82cc-4a46-91aa-d4dbd03a7d39"
      },
      "outputs": [
        {
          "output_type": "stream",
          "name": "stdout",
          "text": [
            "46/46 [==============================] - 522s 11s/step - loss: 1.4927 - accuracy: 0.6308\n",
            "\n",
            "Test Accuracy: 63.08%\n",
            "46/46 [==============================] - 10s 131ms/step\n",
            "\n",
            "Top-3 Accuracy: 86.61%\n",
            "46/46 [==============================] - 7s 151ms/step\n",
            "\n",
            "Top-5 Accuracy: 94.62%\n"
          ]
        }
      ],
      "source": [
        "import tensorflow as tf\n",
        "from tensorflow.keras.preprocessing import image\n",
        "import numpy as np\n",
        "\n",
        "# Load the saved model\n",
        "model_save_path = \"/content/drive/MyDrive/saved_models/skin_disease_model\"\n",
        "loaded_model = tf.keras.models.load_model(model_save_path)\n",
        "\n",
        "# Assuming you have a separate test dataset (test_data) for evaluation\n",
        "test_loss, test_accuracy = loaded_model.evaluate(test_data)\n",
        "print(f\"\\nTest Accuracy: {test_accuracy*100:.2f}%\")\n",
        "\n",
        "# Calculate top-3 accuracy manually\n",
        "top3_predictions = np.argsort(loaded_model.predict(test_data), axis=1)[:, -3:]  # Get indices of top 3 predictions\n",
        "true_labels = np.concatenate([y for x, y in test_data], axis=0)  # Assuming your test_data is a tuple (images, labels)\n",
        "\n",
        "top3_correct = np.any(top3_predictions == np.argmax(true_labels, axis=1).reshape(-1, 1), axis=1)\n",
        "top3_accuracy = np.mean(top3_correct)\n",
        "\n",
        "print(f\"\\nTop-3 Accuracy: {top3_accuracy*100:.2f}%\")\n",
        "\n",
        "# Calculate top-5 accuracy manually\n",
        "top5_predictions = np.argsort(loaded_model.predict(test_data), axis=1)[:, -5:]  # Get indices of top 5 predictions\n",
        "\n",
        "top5_correct = np.any(top5_predictions == np.argmax(true_labels, axis=1).reshape(-1, 1), axis=1)\n",
        "top5_accuracy = np.mean(top5_correct)\n",
        "\n",
        "print(f\"\\nTop-5 Accuracy: {top5_accuracy*100:.2f}%\")\n"
      ]
    },
    {
      "cell_type": "code",
      "execution_count": null,
      "metadata": {
        "id": "CY9fj91SX9iu",
        "colab": {
          "base_uri": "https://localhost:8080/"
        },
        "outputId": "6844646e-430f-4098-ee3f-4772c0b3fbe2"
      },
      "outputs": [
        {
          "output_type": "stream",
          "name": "stdout",
          "text": [
            "Found 1449 files belonging to 10 classes.\n",
            "46/46 [==============================] - 17s 136ms/step\n",
            "Classification Report:\n",
            "                                  precision    recall  f1-score   support\n",
            "\n",
            "           Bacterial Infections       0.63      0.71      0.67       153\n",
            "        Chronic Skin Conditions       0.65      0.71      0.68       251\n",
            "Sexually Transmitted Infections       0.62      0.51      0.56       108\n",
            "    Connective Tissue Disorders       0.61      0.49      0.55        97\n",
            "                Nail Conditions       0.68      0.66      0.67       103\n",
            "             Contact Dermatitis       0.69      0.60      0.64       141\n",
            "         Infestations and Bites       0.53      0.58      0.55       274\n",
            "              Fungal Infections       0.85      0.91      0.88       110\n",
            "               Viral Infections       0.49      0.53      0.51        66\n",
            "  Miscellaneous Skin Conditions       0.62      0.53      0.58       146\n",
            "\n",
            "                       accuracy                           0.63      1449\n",
            "                      macro avg       0.64      0.62      0.63      1449\n",
            "                   weighted avg       0.63      0.63      0.63      1449\n",
            "\n"
          ]
        }
      ],
      "source": [
        "from sklearn.metrics import classification_report\n",
        "import numpy as np\n",
        "\n",
        "# Assuming you have a separate test dataset without the normalization\n",
        "test_data = image_dataset_from_directory(test_dir, label_mode=\"categorical\",\n",
        "                                         image_size=(224, 224), batch_size=32,\n",
        "                                         shuffle=False, seed=42)\n",
        "\n",
        "loaded_model = tf.keras.models.load_model(\"/content/drive/MyDrive/saved_models/skin_disease_model\")\n",
        "# Get true labels and predicted probabilities from the model\n",
        "\n",
        "true_labels = np.concatenate([y for x, y in test_data], axis=0)\n",
        "predicted_probs = loaded_model.predict(test_data)\n",
        "\n",
        "# Convert probabilities to class labels\n",
        "predicted_labels = np.argmax(predicted_probs, axis=1)\n",
        "\n",
        "# Define class names\n",
        "class_names = [\n",
        "    \"Bacterial Infections\",\n",
        "    \"Chronic Skin Conditions\",\n",
        "    \"Sexually Transmitted Infections\",\n",
        "    \"Connective Tissue Disorders\",\n",
        "    \"Nail Conditions\",\n",
        "    \"Contact Dermatitis\",\n",
        "    \"Infestations and Bites\",\n",
        "    \"Fungal Infections\",\n",
        "    \"Viral Infections\",\n",
        "    \"Miscellaneous Skin Conditions\"\n",
        "]\n",
        "\n",
        "# Use the classification_report to get precision, recall, and F1-score for each class\n",
        "report = classification_report(np.argmax(true_labels, axis=1), predicted_labels, target_names=class_names)\n",
        "\n",
        "print(\"Classification Report:\\n\", report)\n",
        "\n"
      ]
    }
  ],
  "metadata": {
    "accelerator": "GPU",
    "colab": {
      "provenance": [],
      "authorship_tag": "ABX9TyN9HFTRwuVH3HK602l2E17f",
      "include_colab_link": true
    },
    "kernelspec": {
      "display_name": "Python 3",
      "name": "python3"
    },
    "language_info": {
      "name": "python"
    }
  },
  "nbformat": 4,
  "nbformat_minor": 0
}